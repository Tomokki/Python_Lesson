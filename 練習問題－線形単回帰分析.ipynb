{
  "nbformat": 4,
  "nbformat_minor": 0,
  "metadata": {
    "colab": {
      "provenance": [],
      "authorship_tag": "ABX9TyMVNStdh4VGeCfr7bMPLq1w",
      "include_colab_link": true
    },
    "kernelspec": {
      "name": "python3",
      "display_name": "Python 3"
    },
    "language_info": {
      "name": "python"
    }
  },
  "cells": [
    {
      "cell_type": "markdown",
      "metadata": {
        "id": "view-in-github",
        "colab_type": "text"
      },
      "source": [
        "<a href=\"https://colab.research.google.com/github/Tomokki/Python_Lesson/blob/main/%E7%B7%B4%E7%BF%92%E5%95%8F%E9%A1%8C%EF%BC%8D%E7%B7%9A%E5%BD%A2%E5%8D%98%E5%9B%9E%E5%B8%B0%E5%88%86%E6%9E%90.ipynb\" target=\"_parent\"><img src=\"https://colab.research.google.com/assets/colab-badge.svg\" alt=\"Open In Colab\"/></a>"
      ]
    },
    {
      "cell_type": "markdown",
      "source": [
        "#喫茶店の売上データに対する　線形単回帰分析"
      ],
      "metadata": {
        "id": "z9fFlJcZwl_T"
      }
    },
    {
      "cell_type": "markdown",
      "source": [
        "* 回帰式を求める意義があるか検討する\n",
        "*   説明変数と目的変数のグラフを作成する\n",
        "* 回帰式を求める\n",
        "* 回帰式の精度を確認する"
      ],
      "metadata": {
        "id": "OpdEj2YCwwrn"
      }
    },
    {
      "cell_type": "markdown",
      "source": [
        "##喫茶店のアイスコーヒーの売り上げとその日の最高気温についてのデータ"
      ],
      "metadata": {
        "id": "xpFmQBKdw7yz"
      }
    },
    {
      "cell_type": "markdown",
      "source": [
        "###データの読み込み\n",
        "* icecoffee.csvをDataFrame 形式で読み込みなさい\n",
        "* head関数を用いて読み込んだデータを表示しなさい"
      ],
      "metadata": {
        "id": "NNqkVCVzw_9A"
      }
    },
    {
      "cell_type": "code",
      "source": [
        "import pandas as pd\n",
        "\n",
        "# icecoffee.csvをDataFrame形式で読み込む\n",
        "df = pd.read_csv(\"icecoffee.csv\")\n",
        "\n",
        "# データの最初の数行を表示する\n",
        "print(df.head())\n"
      ],
      "metadata": {
        "colab": {
          "base_uri": "https://localhost:8080/"
        },
        "id": "aFwh1jKGy9rG",
        "outputId": "ae4310a5-adb8-4d71-edde-7d15b4d117ff"
      },
      "execution_count": 22,
      "outputs": [
        {
          "output_type": "stream",
          "name": "stdout",
          "text": [
            "  Unnamed: 0  temperature  icecoffee\n",
            "0   2020/7/1           30         76\n",
            "1   2020/7/2           28         61\n",
            "2   2020/7/3           33         92\n",
            "3   2020/7/4           31         84\n",
            "4   2020/7/5           25         59\n"
          ]
        }
      ]
    },
    {
      "cell_type": "markdown",
      "source": [
        "###データの可視化\n",
        "* データを散布図で可視化し、回帰直線を引く意味があるか考察しなさい"
      ],
      "metadata": {
        "id": "-jf4BsWtxN44"
      }
    },
    {
      "cell_type": "code",
      "source": [
        "import numpy as np\n",
        "import matplotlib.pyplot as plt\n",
        "import matplotlib.style\n",
        "matplotlib.style.use(\"ggplot\")\n",
        "\n",
        "# \"temperature\"と\"icecoffee\"の列を抽出\n",
        "x = df['temperature']\n",
        "y = df['icecoffee']\n",
        "\n",
        "# データの可視化\n",
        "fig, ax = plt.subplots()\n",
        "ax.scatter(x,y,color = \"blue\")\n",
        "\n",
        "plt.title(\"Correlation\")\n",
        "plt.xlabel(\"temperature\")\n",
        "plt.ylabel(\"icecoffee\")\n",
        "plt.show()\n",
        "\n",
        "# データが右肩上がりになっているため回帰直線を引く意味がある"
      ],
      "metadata": {
        "colab": {
          "base_uri": "https://localhost:8080/",
          "height": 477
        },
        "id": "Oq-InAcVzOWQ",
        "outputId": "68656359-0593-4645-c71d-f90c741ee6f5"
      },
      "execution_count": 23,
      "outputs": [
        {
          "output_type": "display_data",
          "data": {
            "text/plain": [
              "<Figure size 640x480 with 1 Axes>"
            ],
            "image/png": "[encoded data removed]"
          },
          "metadata": {}
        }
      ]
    },
    {
      "cell_type": "markdown",
      "source": [
        "###相関係数の確認\n",
        "* データの相関係数を確認しなさい"
      ],
      "metadata": {
        "id": "pNAGEgjXxYi9"
      }
    },
    {
      "cell_type": "code",
      "source": [
        "# 相関係数の確認\n",
        "s1 = pd.Series(x)\n",
        "s2 = pd.Series(y)\n",
        "res = s1.corr(s2)\n",
        "print(res)\n",
        "\n",
        "# 正の相関ありと判断"
      ],
      "metadata": {
        "colab": {
          "base_uri": "https://localhost:8080/"
        },
        "id": "GxVrVPoR1cKG",
        "outputId": "e5760c03-671e-476b-dd23-ed2896fb8fcb"
      },
      "execution_count": 24,
      "outputs": [
        {
          "output_type": "stream",
          "name": "stdout",
          "text": [
            "0.9250159310117605\n"
          ]
        }
      ]
    },
    {
      "cell_type": "markdown",
      "source": [
        "###回帰式の算出\n",
        "* LinearRegressionライブラリを用いて回帰係数と切片を算出しなさい\n",
        "* データ数が少ないため、学習データと検証データの分類は実施しなくてよい"
      ],
      "metadata": {
        "id": "Wl_pdGg2xh1R"
      }
    },
    {
      "cell_type": "code",
      "source": [
        "from sklearn.linear_model import LinearRegression\n",
        "\n",
        "# 線形単回帰モデルの生成\n",
        "x = np.array(x).reshape(-1,1) #n行1列に変形\n",
        "y = np.array(y)\n",
        "model = LinearRegression()\n",
        "model.fit(x,y)\n",
        "\n",
        "print(\"intercept = \", model.intercept_) #切片\n",
        "print(\"coefficient = \",model.coef_[0]) #傾き\n",
        "\n",
        "\n",
        "# 得られた回帰式\n",
        "# y = -46 + 4x"
      ],
      "metadata": {
        "colab": {
          "base_uri": "https://localhost:8080/"
        },
        "id": "KWkSVOVQ1zmk",
        "outputId": "1ad36edb-7825-486b-d666-29b0da82470c"
      },
      "execution_count": 25,
      "outputs": [
        {
          "output_type": "stream",
          "name": "stdout",
          "text": [
            "intercept =  -45.58706467661689\n",
            "coefficient =  4.027363184079602\n"
          ]
        }
      ]
    },
    {
      "cell_type": "markdown",
      "source": [
        "###回帰直線のグラフ化\n",
        "* matplotlibを用いてデータの散布図と回帰直線をグラフ化しなさい"
      ],
      "metadata": {
        "id": "ehPnkFwkxrRH"
      }
    },
    {
      "cell_type": "code",
      "source": [
        "# matplotlibを用いてデータの散布図と回帰直線をグラフ化\n",
        "import numpy as np\n",
        "import pandas as pd\n",
        "import matplotlib.pyplot as plt\n",
        "import matplotlib.style\n",
        "matplotlib.style.use(\"ggplot\")\n",
        "\n",
        "\n",
        "fig, ax = plt.subplots()\n",
        "ax.scatter(x,y,color = \"blue\")\n",
        "\n",
        "plt.plot(x,model.predict(x),color = \"red\")\n",
        "plt.title(\"Regression Line\")\n",
        "plt.xlabel(\"x\")\n",
        "plt.ylabel(\"y\")\n",
        "plt.show()"
      ],
      "metadata": {
        "colab": {
          "base_uri": "https://localhost:8080/",
          "height": 477
        },
        "id": "7kyKGgqb2Ptl",
        "outputId": "9dc17bfa-f590-458c-f3eb-4f2b414753de"
      },
      "execution_count": 26,
      "outputs": [
        {
          "output_type": "display_data",
          "data": {
            "text/plain": [
              "<Figure size 640x480 with 1 Axes>"
            ],
            "image/png": "[encoded data removed]"
          },
          "metadata": {}
        }
      ]
    },
    {
      "cell_type": "markdown",
      "source": [
        "###回帰式を用いたデータ予測\n",
        "* 回帰分析から得られた回帰式を示しなさい\n",
        "* 𝑦=𝑎+𝑏𝑥\n",
        "* データに含まれる x の最大値は33\n",
        "\n",
        "* x=38の時の y の値 を予測\n",
        "* 𝑦=𝑎+𝑏 × 38"
      ],
      "metadata": {
        "id": "QxhEzBdyxzu0"
      }
    },
    {
      "cell_type": "code",
      "source": [
        "# 得られた回帰式\n",
        "# y = -46 + 4x\n",
        "\n",
        "# x=38に対する予測結果\n",
        "x_38 = np.array(38).reshape(-1,1)\n",
        "y_pred = model.predict(x_38)\n",
        "print(y_pred[0])"
      ],
      "metadata": {
        "colab": {
          "base_uri": "https://localhost:8080/"
        },
        "id": "HTNBeNYO3aYL",
        "outputId": "20f94e90-aca1-4793-91da-dd6d83b53a75"
      },
      "execution_count": 27,
      "outputs": [
        {
          "output_type": "stream",
          "name": "stdout",
          "text": [
            "107.45273631840796\n"
          ]
        }
      ]
    },
    {
      "cell_type": "markdown",
      "source": [
        "###残差プロットの確認\n",
        "* 残差のばらつきを見る残差分析を実施しなさい"
      ],
      "metadata": {
        "id": "SkkKHnLByNry"
      }
    },
    {
      "cell_type": "code",
      "source": [
        "# 残差のばらつきを見る残差分析を実施\n",
        "y_pred = model.predict(x)\n",
        "plt.scatter(y_pred,y_pred - y ,color = \"blue\")\n",
        "plt.hlines(y = 0 ,xmin = 40,xmax = 100 ,color=\"black\")\n",
        "\n",
        "plt.title(\"Residual Plot\")\n",
        "plt.xlabel(\"Predicted Values\")\n",
        "plt.ylabel(\"Residuals\")\n",
        "plt.show()"
      ],
      "metadata": {
        "colab": {
          "base_uri": "https://localhost:8080/",
          "height": 477
        },
        "id": "pSrkExsS35V0",
        "outputId": "edb56a1d-a6a7-46a1-84bc-264efc6feb2b"
      },
      "execution_count": 28,
      "outputs": [
        {
          "output_type": "display_data",
          "data": {
            "text/plain": [
              "<Figure size 640x480 with 1 Axes>"
            ],
            "image/png": "[encoded data removed]"
          },
          "metadata": {}
        }
      ]
    },
    {
      "cell_type": "markdown",
      "source": [
        "###平均二乗誤差（MSE: Mean Square Error Error）\n",
        "* 平均二乗誤差を求めなさい"
      ],
      "metadata": {
        "id": "UksPri6zyUxZ"
      }
    },
    {
      "cell_type": "code",
      "source": [
        "# 実際の値とモデルによる予測値との誤差の平均値\n",
        "from sklearn.metrics import mean_squared_error\n",
        "print(\"MSE:\", mean_squared_error(y,y_pred))"
      ],
      "metadata": {
        "colab": {
          "base_uri": "https://localhost:8080/"
        },
        "id": "a-yy1iJw4bQ1",
        "outputId": "417f46b5-86a5-4de0-884e-97e0f7ff1fc3"
      },
      "execution_count": 29,
      "outputs": [
        {
          "output_type": "stream",
          "name": "stdout",
          "text": [
            "MSE: 22.44793887704336\n"
          ]
        }
      ]
    },
    {
      "cell_type": "markdown",
      "source": [
        "###決定係数𝑅 2\n",
        "* 決定係数を求めなさい"
      ],
      "metadata": {
        "id": "VPDQXi16ydPa"
      }
    },
    {
      "cell_type": "code",
      "execution_count": 30,
      "metadata": {
        "colab": {
          "base_uri": "https://localhost:8080/"
        },
        "id": "qJ7b0L5OwMPr",
        "outputId": "28f95576-7bd2-40b1-dbb8-ca19f326b325"
      },
      "outputs": [
        {
          "output_type": "stream",
          "name": "stdout",
          "text": [
            "r^2: 0.8556544726255537\n"
          ]
        }
      ],
      "source": [
        "# 実際の値とモデルによる予測値との誤差の平均値\n",
        "from sklearn.metrics import r2_score\n",
        "print(\"r^2:\" ,r2_score(y,y_pred))"
      ]
    }
  ]
}